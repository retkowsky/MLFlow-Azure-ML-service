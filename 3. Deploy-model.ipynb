{
 "cells": [
  {
   "cell_type": "markdown",
   "metadata": {},
   "source": [
    "## Deploy Model as Azure Machine Learning Web Service using MLflow\n",
    "\n",
    "This example shows you how to use mlflow together with Azure Machine Learning services for deploying a model as a web service. You'll learn how to:\n",
    "\n",
    " 1. Retrieve a previously trained scikit-learn model\n",
    " 2. Create a Docker image from the model\n",
    " 3. Deploy the model as a web service on Azure Container Instance\n",
    " 4. Make a scoring request against the web service.\n",
    "\n",
    "## Prerequisites and Set-up\n",
    "\n",
    "This notebook requires you to first complete the [Use MLflow with Azure Machine Learning for Local Training Run](../train-local/train-local.ipnyb) or [Use MLflow with Azure Machine Learning for Remote Training Run](../train-remote/train-remote.ipnyb) notebook, so as to have an experiment run with uploaded model in your Azure Machine Learning Workspace.\n",
    "\n",
    "Also install following packages if you haven't already\n",
    "\n",
    "```\n",
    "pip install azureml-mlflow pandas\n",
    "```\n",
    "\n",
    "Then, import necessary packages:"
   ]
  },
  {
   "cell_type": "markdown",
   "metadata": {},
   "source": [
    "<img src=\"https://github.com/retkowsky/images/blob/master/AzureMLservicebanniere.png?raw=true\">"
   ]
  },
  {
   "cell_type": "markdown",
   "metadata": {},
   "source": [
    "<img src=\"https://mlflow.org/docs/0.2.1/_static/MLflow-logo-final-black.png\" width=\"400\">"
   ]
  },
  {
   "cell_type": "code",
   "execution_count": 1,
   "metadata": {},
   "outputs": [
    {
     "name": "stdout",
     "output_type": "stream",
     "text": [
      "SDK version: 1.0.72\n"
     ]
    }
   ],
   "source": [
    "import mlflow\n",
    "import azureml.mlflow\n",
    "import azureml.core\n",
    "from azureml.core import Workspace\n",
    "\n",
    "# Check core SDK version number\n",
    "print(\"SDK version:\", azureml.core.VERSION)"
   ]
  },
  {
   "cell_type": "markdown",
   "metadata": {},
   "source": [
    "### Connect to workspace and set MLflow tracking URI\n",
    "\n",
    "Setting the tracking URI is required for retrieving the model and creating an image using the MLflow APIs."
   ]
  },
  {
   "cell_type": "code",
   "execution_count": 2,
   "metadata": {},
   "outputs": [],
   "source": [
    "ws = Workspace.from_config()\n",
    "\n",
    "mlflow.set_tracking_uri(ws.get_mlflow_tracking_uri())"
   ]
  },
  {
   "cell_type": "markdown",
   "metadata": {},
   "source": [
    "### Retrieve model from previous run\n",
    "\n",
    "Let's retrieve the experiment from training notebook, and list the runs within that experiment."
   ]
  },
  {
   "cell_type": "code",
   "execution_count": 3,
   "metadata": {},
   "outputs": [
    {
     "data": {
      "text/plain": [
       "[Run(Experiment: experiment-with-mlflow,\n",
       " Id: 0f226eed-f0e4-4159-9252-e97b2d8bc668,\n",
       " Type: None,\n",
       " Status: Completed), Run(Experiment: experiment-with-mlflow,\n",
       " Id: 6661efb1-e304-4e65-9f75-977248556f17,\n",
       " Type: None,\n",
       " Status: Completed), Run(Experiment: experiment-with-mlflow,\n",
       " Id: e80a4489-0d93-4c6c-95ea-4e83ba5a8488,\n",
       " Type: None,\n",
       " Status: Completed), Run(Experiment: experiment-with-mlflow,\n",
       " Id: 56c4211f-460f-47bd-b979-0fc81920a6a1,\n",
       " Type: None,\n",
       " Status: Completed), Run(Experiment: experiment-with-mlflow,\n",
       " Id: f4a3711b-ef77-46a6-ae49-142978c07cc1,\n",
       " Type: None,\n",
       " Status: Completed), Run(Experiment: experiment-with-mlflow,\n",
       " Id: 153632bc-3623-4808-bf8c-7c1fef1d17e5,\n",
       " Type: None,\n",
       " Status: Completed), Run(Experiment: experiment-with-mlflow,\n",
       " Id: experiment-with-mlflow_1561127517_8b46e0cb,\n",
       " Type: azureml.scriptrun,\n",
       " Status: Completed), Run(Experiment: experiment-with-mlflow,\n",
       " Id: experiment-with-mlflow_1561127667_c0060f62,\n",
       " Type: azureml.scriptrun,\n",
       " Status: Completed), Run(Experiment: experiment-with-mlflow,\n",
       " Id: 88939bc265554d9aa0f1339d12f3c5d2,\n",
       " Type: None,\n",
       " Status: Completed)]"
      ]
     },
     "execution_count": 3,
     "metadata": {},
     "output_type": "execute_result"
    }
   ],
   "source": [
    "experiment_name = \"experiment-with-mlflow\"\n",
    "exp = ws.experiments[experiment_name]\n",
    "\n",
    "runs = list(exp.get_runs())\n",
    "runs"
   ]
  },
  {
   "cell_type": "markdown",
   "metadata": {},
   "source": [
    "Then, let's select the most recent training run and find its ID. You also need to specify the path in run history where the model was saved. "
   ]
  },
  {
   "cell_type": "code",
   "execution_count": 4,
   "metadata": {},
   "outputs": [],
   "source": [
    "runid = runs[0].id\n",
    "model_save_path = \"model\""
   ]
  },
  {
   "cell_type": "markdown",
   "metadata": {},
   "source": [
    "### Create Docker image\n",
    "\n",
    "To create a Docker image with Azure Machine Learning for Model Management, use ```mlflow.azureml.build_image``` method. Specify the model path, your workspace, run ID and other parameters.\n",
    "\n",
    "MLflow automatically recognizes the model framework as scikit-learn, and creates the scoring logic and includes library dependencies for you.\n",
    "\n",
    "Note that the image creation can take several minutes."
   ]
  },
  {
   "cell_type": "code",
   "execution_count": 5,
   "metadata": {},
   "outputs": [
    {
     "name": "stderr",
     "output_type": "stream",
     "text": [
      "2020/01/08 14:26:10 INFO mlflow.azureml: Registered an Azure Model with name: `diabetes-sklearn-model` and version: `9`\n"
     ]
    },
    {
     "name": "stdout",
     "output_type": "stream",
     "text": [
      "Registering model diabetes-sklearn-model\n",
      "Creating image\n"
     ]
    },
    {
     "name": "stderr",
     "output_type": "stream",
     "text": [
      "2020/01/08 14:26:30 INFO mlflow.azureml: Building an Azure Container Image with name: `diabetes-sklearn-image` and version: `8`\n"
     ]
    },
    {
     "name": "stdout",
     "output_type": "stream",
     "text": [
      "Running................................................................................\n",
      "Succeeded\n",
      "Image creation operation finished for image diabetes-sklearn-image:8, operation \"Succeeded\"\n"
     ]
    }
   ],
   "source": [
    "import mlflow.azureml\n",
    "\n",
    "azure_image, azure_model = mlflow.azureml.build_image(model_uri=\"runs:/{}/{}\".format(runid, model_save_path),\n",
    "                                                      workspace=ws,\n",
    "                                                      model_name='diabetes-sklearn-model',\n",
    "                                                      image_name='diabetes-sklearn-image',\n",
    "                                                      synchronous=True)"
   ]
  },
  {
   "cell_type": "markdown",
   "metadata": {},
   "source": [
    "### Deploy web service\n",
    "\n",
    "Let's use Azure Machine Learning SDK to deploy the image as a web service. \n",
    "\n",
    "First, specify the deployment configuration. Azure Container Instance is a suitable choice for a quick dev-test deployment, while Azure Kubernetes Service is suitable for scalable production deployments.\n",
    "\n",
    "Then, deploy the image using Azure Machine Learning SDK's ```deploy_from_image``` method.\n",
    "\n",
    "Note that the deployment can take several minutes."
   ]
  },
  {
   "cell_type": "code",
   "execution_count": 7,
   "metadata": {},
   "outputs": [
    {
     "name": "stdout",
     "output_type": "stream",
     "text": [
      "Running...............................\n",
      "Succeeded\n",
      "ACI service creation operation finished, operation \"Succeeded\"\n",
      "CPU times: user 192 ms, sys: 17.3 ms, total: 209 ms\n",
      "Wall time: 2min 48s\n"
     ]
    }
   ],
   "source": [
    "%%time\n",
    "\n",
    "from azureml.core.webservice import AciWebservice, Webservice\n",
    "\n",
    "\n",
    "aci_config = AciWebservice.deploy_configuration(cpu_cores=1, \n",
    "                                                memory_gb=1, \n",
    "                                                tags={\"method\" : \"sklearn\"}, \n",
    "                                                description='Diabetes model',\n",
    "                                                location='eastus2')\n",
    "\n",
    "\n",
    "# Deploy the image to Azure Container Instances (ACI) for real-time serving\n",
    "webservice = Webservice.deploy_from_image(\n",
    "    image=azure_image, workspace=ws, name=\"diabetes-model-2\", deployment_config=aci_config)\n",
    "\n",
    "\n",
    "webservice.wait_for_deployment(show_output=True)"
   ]
  },
  {
   "cell_type": "markdown",
   "metadata": {},
   "source": [
    "## Make a scoring request\n",
    "\n",
    "Let's take the first few rows of test data and score them using the web service"
   ]
  },
  {
   "cell_type": "code",
   "execution_count": 8,
   "metadata": {},
   "outputs": [],
   "source": [
    "test_rows = [\n",
    "    [0.01991321,  0.05068012,  0.10480869,  0.07007254, -0.03596778,\n",
    "     -0.0266789 , -0.02499266, -0.00259226,  0.00371174,  0.04034337],\n",
    "    [-0.01277963, -0.04464164,  0.06061839,  0.05285819,  0.04796534,\n",
    "     0.02937467, -0.01762938,  0.03430886,  0.0702113 ,  0.00720652],\n",
    "    [ 0.03807591,  0.05068012,  0.00888341,  0.04252958, -0.04284755,\n",
    "     -0.02104223, -0.03971921, -0.00259226, -0.01811827,  0.00720652]]"
   ]
  },
  {
   "cell_type": "markdown",
   "metadata": {},
   "source": [
    "MLflow-based web service for scikit-learn model requires the data to be converted to Pandas DataFrame, and then serialized as JSON. "
   ]
  },
  {
   "cell_type": "code",
   "execution_count": 9,
   "metadata": {},
   "outputs": [],
   "source": [
    "import json\n",
    "import pandas as pd\n",
    "\n",
    "test_rows_as_json = pd.DataFrame(test_rows).to_json(orient=\"split\")"
   ]
  },
  {
   "cell_type": "markdown",
   "metadata": {},
   "source": [
    "Let's pass the conveted and serialized data to web service to get the predictions."
   ]
  },
  {
   "cell_type": "code",
   "execution_count": 10,
   "metadata": {},
   "outputs": [
    {
     "name": "stdout",
     "output_type": "stream",
     "text": [
      "[232.5831070160765, 243.5417219310129, 163.65557038346532]\n"
     ]
    }
   ],
   "source": [
    "predictions = webservice.run(test_rows_as_json)\n",
    "\n",
    "print(predictions)"
   ]
  },
  {
   "cell_type": "markdown",
   "metadata": {},
   "source": [
    "You can use the web service's scoring URI to make a raw HTTP request"
   ]
  },
  {
   "cell_type": "code",
   "execution_count": 11,
   "metadata": {},
   "outputs": [
    {
     "data": {
      "text/plain": [
       "'http://d200e405-2945-4109-8f65-482c75d3a6f7.eastus2.azurecontainer.io/score'"
      ]
     },
     "execution_count": 11,
     "metadata": {},
     "output_type": "execute_result"
    }
   ],
   "source": [
    "webservice.scoring_uri"
   ]
  },
  {
   "cell_type": "markdown",
   "metadata": {},
   "source": [
    "You can diagnose the web service using ```get_logs``` method."
   ]
  },
  {
   "cell_type": "code",
   "execution_count": 12,
   "metadata": {},
   "outputs": [
    {
     "data": {
      "text/plain": [
       "'2020-01-08T14:36:20,583927730+00:00 - rsyslog/run \\n2020-01-08T14:36:20,585475929+00:00 - nginx/run \\n2020-01-08T14:36:20,584440130+00:00 - gunicorn/run \\n2020-01-08T14:36:20,585547829+00:00 - iot-server/run \\nEdgeHubConnectionString and IOTEDGE_IOTHUBHOSTNAME are not set. Exiting...\\n2020-01-08T14:36:20,833641288+00:00 - iot-server/finish 1 0\\n2020-01-08T14:36:20,906636076+00:00 - Exit code 1 is normal. Not restarting iot-server.\\nStarting gunicorn 19.6.0\\nListening at: http://127.0.0.1:31311 (10)\\nUsing worker: sync\\nworker timeout is set to 300\\nBooting worker with pid: 47\\nInitializing logger\\nStarting up app insights client\\nStarting up request id generator\\nStarting up app insight hooks\\nInvoking user\\'s init function\\n2020-01-08 14:36:25,925 | azureml.core.run | DEBUG | Could not load run context RunEnvironmentException:\\n\\tMessage: Could not load a submitted run, if outside of an execution context, use experiment.start_logging to initialize an azureml.core.Run.\\n\\tInnerException None\\n\\tErrorResponse \\n{\\n    \"error\": {\\n        \"message\": \"Could not load a submitted run, if outside of an execution context, use experiment.start_logging to initialize an azureml.core.Run.\"\\n    }\\n}, switching offline: False\\n2020-01-08 14:36:25,925 | azureml.core.run | DEBUG | Could not load the run context and allow_offline set to False\\n2020-01-08 14:36:25,925 | azureml.core.model | DEBUG | Using passed in version 9\\n2020-01-08 14:36:25,926 | azureml.core.model | DEBUG | Found model path at azureml-models/diabetes-sklearn-model/9/model\\nexecution_script.py:12: DeprecationWarning: .. Warning:: ``mlflow.pyfunc.load_pyfunc`` is deprecated since 1.0. This method will be removed in a near future release. Use ``mlflow.pyfunc.load_model`` instead.\\n  model = load_pyfunc(model_path)\\nUsers\\'s init has completed successfully\\nScoring timeout is found from os.environ: 60000 ms\\nValidation Request Content-Type\\nReceived input: {\"columns\":[0,1,2,3,4,5,6,7,8,9],\"index\":[0,1,2],\"data\":[[0.01991321,0.05068012,0.10480869,0.07007254,-0.03596778,-0.0266789,-0.02499266,-0.00259226,0.00371174,0.04034337],[-0.01277963,-0.04464164,0.06061839,0.05285819,0.04796534,0.02937467,-0.01762938,0.03430886,0.0702113,0.00720652],[0.03807591,0.05068012,0.00888341,0.04252958,-0.04284755,-0.02104223,-0.03971921,-0.00259226,-0.01811827,0.00720652]]}\\nHeaders passed in (total 11):\\n\\tHost: localhost:5001\\n\\tX-Real-Ip: 127.0.0.1\\n\\tX-Forwarded-For: 127.0.0.1\\n\\tX-Forwarded-Proto: http\\n\\tConnection: close\\n\\tContent-Length: 404\\n\\tUser-Agent: python-requests/2.22.0\\n\\tAccept: */*\\n\\tAccept-Encoding: gzip, deflate\\n\\tContent-Type: application/json\\n\\tX-Ms-Request-Id: 519920af-637b-483a-be4d-9902ebaa6cc9\\nScoring Timer is set to 60.0 seconds\\n200\\n127.0.0.1 - - [08/Jan/2020:14:41:22 +0000] \"POST /score HTTP/1.0\" 200 58 \"-\" \"python-requests/2.22.0\"\\n'"
      ]
     },
     "execution_count": 12,
     "metadata": {},
     "output_type": "execute_result"
    }
   ],
   "source": [
    "webservice.get_logs()"
   ]
  },
  {
   "cell_type": "code",
   "execution_count": null,
   "metadata": {},
   "outputs": [],
   "source": []
  }
 ],
 "metadata": {
  "authors": [
   {
    "name": "shipatel"
   }
  ],
  "category": "deployment",
  "compute": [
   "None"
  ],
  "datasets": [
   "Diabetes"
  ],
  "deployment": [
   "Azure Container Instance"
  ],
  "exclude_from_index": false,
  "framework": [
   "Scikit-learn"
  ],
  "friendly_name": "Deploy a model as a web service using MLflow",
  "index_order": 4,
  "kernelspec": {
   "display_name": "Python 3.6 - AzureML",
   "language": "python",
   "name": "python3-azureml"
  },
  "language_info": {
   "codemirror_mode": {
    "name": "ipython",
    "version": 3
   },
   "file_extension": ".py",
   "mimetype": "text/x-python",
   "name": "python",
   "nbconvert_exporter": "python",
   "pygments_lexer": "ipython3",
   "version": "3.6.9"
  },
  "tags": [
   "None"
  ],
  "task": "Use MLflow with AML"
 },
 "nbformat": 4,
 "nbformat_minor": 2
}
